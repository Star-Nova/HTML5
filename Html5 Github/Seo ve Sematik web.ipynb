{
 "cells": [
  {
   "cell_type": "code",
   "execution_count": null,
   "id": "589f9e63-d223-493f-aacd-212995842505",
   "metadata": {},
   "outputs": [],
   "source": [
    "SEO Nedir?\n",
    "• Search Engine Optimization kelimelerinin kısaltılmışıdır.\n",
    "• Türkçe'ye Arama Motoru Optimizasyonu olarak çevrilir.\n",
    "• Bir web sitesinin arama performansını arttırmaya yönelik yapılan çalışmaların tümüne SEO denir.\n",
    "• Uygun ve kaliteli SEO ile siteniz arama sonuçlarında daha üst sıralarda görünebilir.\n",
    "• Sitenizin üst sıralara çıkması için Semantik & SEO amaçlı kodlama prensiplerine dikkat etmelisiniz."
   ]
  },
  {
   "cell_type": "code",
   "execution_count": null,
   "id": "2d5f521b-ebb8-42cf-a38e-60826147e67c",
   "metadata": {},
   "outputs": [],
   "source": []
  },
  {
   "cell_type": "code",
   "execution_count": null,
   "id": "eadaefd1-09d2-4afb-a62b-27a9bbb40414",
   "metadata": {},
   "outputs": [],
   "source": [
    "Sayfa Başlığı (Title)\n",
    "• Arama motorları sürekli dünya üzerindeki web sunucuları dolaşırlar ve bu sunucularda bulunan web sitelerindeki bilgileri veri tabanlarına kaydederler. Bu tür yazılımlara spider/örümcek denir.\n",
    "• SEO açısından bilinmesi gereken en önemli konulardan biri sayfa başlığı ve <title> tagıdır.\n",
    "• Eğer <title> içinde geçen kelimelerden biri aranırsa sizin sayfanız da arama sonuçlarında listelenebilir.\n",
    "• Genelde en fazla 60 karakter uzunluğundadır.\n"
   ]
  },
  {
   "cell_type": "code",
   "execution_count": null,
   "id": "f7ad80fc-0d5d-4649-8adb-f67b5e6741c9",
   "metadata": {},
   "outputs": [],
   "source": []
  },
  {
   "cell_type": "code",
   "execution_count": null,
   "id": "881e1a79-2d06-454d-a3ae-16c3e7a991c9",
   "metadata": {},
   "outputs": [],
   "source": [
    "Description (Sayfa Açıklaması)\n",
    "• Arama motorları açısından önemli etiketlerden biri de <meta> etiketidir.\n",
    "• <meta> etiketinin içine <title> etiketi ile ilişkili olarak yazılan açıklama sayfanızın daha üstte görünmesini sağlar.\n",
    "\n",
    "<!DOCTYPE html>\n",
    "\n",
    "<html lang=\"tr\">\n",
    "    <head>\n",
    "        <title>Sarı Lacivert Deri Futbol Topu</title>\n",
    "        <meta charset=\"utf-8\">\n",
    "        <meta name=\"description\" content=\"Türkiyede üretilen sarı lacivert futbol topu kaliteli derisi ile mükemmel bir futbol deneyimi sunar\" >\n",
    "        <meta name=\"keywords\" content=\"sarı,lacivert,deri,futbol,top\" >\n",
    "    </head>\n",
    "    <body>\n",
    "\n",
    "\n",
    "    </body>\n",
    "</html>"
   ]
  },
  {
   "cell_type": "code",
   "execution_count": null,
   "id": "9b31f022-ae75-4c45-aedf-587e4307dbf2",
   "metadata": {},
   "outputs": [],
   "source": []
  },
  {
   "cell_type": "code",
   "execution_count": null,
   "id": "fe13c1a2-39b7-4e47-95d5-31991cc54fbe",
   "metadata": {},
   "outputs": [],
   "source": [
    "Konu Başlıkları (hx)\n",
    "• <h1>, <h2> gibi konu başlıkları gazetelerdeki manşetler gibi işlev görür; Sadece ziyaretçilerin dikkatini çekmekle kalmaz,\n",
    "aynı zamanda arama motorlarının da dikkatini çeker.\n",
    "    \n",
    "<!DOCTYPE html>\n",
    "\n",
    "<html lang=\"tr\">\n",
    "    <head>\n",
    "        <title>Sarı Lacivert Deri Futbol Topu</title>\n",
    "        <meta charset=\"utf-8\">\n",
    "        <meta name=\"description\" content=\"Türkiyede üretilen sarı lacivert futbol topu kaliteli derisi ile mükemmel bir futbol deneyimi sunar\" >\n",
    "        <meta name=\"keywords\" content=\"sarı,lacivert,deri,futbol,top\" >\n",
    "    </head>\n",
    "    <body>\n",
    "        <h1> ABC Marka Sarı Lacivert Deri Futbol Topu</h1>\n",
    "\n",
    "\n",
    "    </body>\n",
    "</html>"
   ]
  },
  {
   "cell_type": "code",
   "execution_count": null,
   "id": "e7fcc2a5-45d8-4fd5-9894-3ed52c9f2173",
   "metadata": {},
   "outputs": [],
   "source": []
  },
  {
   "cell_type": "code",
   "execution_count": null,
   "id": "46de1e94-6ded-4235-a394-de9fcced8ca7",
   "metadata": {},
   "outputs": [],
   "source": [
    "Semantik (Anlamsal) Web Nedir? (1)\n",
    "\n",
    "• Kelimelerin anlamlarını inceleyen bilim dalına Semantik denir.\n",
    "• Semantik web, diğer anlamı ile anlamsal ağ, uygun içerikleri uygun HTML komutlarının içine koymak anlamına gelir.\n",
    "• Google veya Yaani gibi arama motorları semantik web sayesinde arama yapan kullanıcılara en uygun içeriği sağlar.\n",
    "\n",
    "Not: Google , Yaani , Yandex örnek verilir."
   ]
  },
  {
   "cell_type": "code",
   "execution_count": null,
   "id": "0df6bc10-95e4-422e-8114-978c48e28c77",
   "metadata": {},
   "outputs": [],
   "source": []
  },
  {
   "cell_type": "code",
   "execution_count": null,
   "id": "2265b733-8e0f-4939-8b2b-9c249d0692bd",
   "metadata": {},
   "outputs": [],
   "source": [
    "Semantik (Anlamsal) Web Nedir? (2)\n",
    "\n",
    "• <form>, <table>, <head> ve <footer>\n",
    "gibi HTML komutları semantiktir çünkü komutun adından hem anlamı hem de işlevi ortaya çıkar.\n",
    "W3C\n",
    "<span> ve <div> gibi komutlar ise\n",
    "semantik değildir. Sonuçta, arama motorları açısından daha zor anlaşılan içerikler sunarlar.\n",
    "\n",
    "NOT: W3C ve Seamtic Web buna örnek verilir."
   ]
  },
  {
   "cell_type": "code",
   "execution_count": null,
   "id": "44815cc5-2269-44eb-9e13-85cfd16b9dd1",
   "metadata": {},
   "outputs": [],
   "source": []
  },
  {
   "cell_type": "code",
   "execution_count": null,
   "id": "0c706d8d-8a31-4e1d-bfdf-73c0f2387aef",
   "metadata": {},
   "outputs": [],
   "source": [
    "Semantik (Anlamsal) Web Nedir? (3)\n",
    "• Semantik olarak tasarlanan sayfa içerikleri arama sonuçlarında daha üstte görünürler.\n",
    "• Bu nedenle, genel sayfa yapısını tasarlarken aşağıdaki semantik web etiketleri ihmal edilmemeli ve içeriğe uygun olarak kullanılmalıdır:\n",
    "• article (Bağımsız, kendi başına anlamlı içerik parçalarını belirtir. Örnk:Blog gönderileri, haber makaleleri, forum gönderileri, yorumlar gibi bağımsız içerik blokları için uygundur.)\n",
    "• section (Belirli bir konuyu veya işlevi kapsayan bölümleri belirtir. Örnk:Belirli bir tema veya konu etrafında gruplandırılmış içerik blokları için uygundur.)\n",
    "• header (başlık)\n",
    "• nav (menü)\n",
    "• aside (yan içerik)\n",
    "• footer (alt bilgi)"
   ]
  },
  {
   "cell_type": "code",
   "execution_count": null,
   "id": "fb3a142e-f776-4d3d-a7df-9c7ba8a7e9d0",
   "metadata": {},
   "outputs": [],
   "source": []
  },
  {
   "cell_type": "code",
   "execution_count": null,
   "id": "d4260ef8-8a44-4cfb-bc58-eb715eade389",
   "metadata": {},
   "outputs": [],
   "source": [
    "Genel Sayfa Düzeni (4)\n",
    "\n",
    "• Çok farklı sayfa tasarımları olmasına rağmen klasik bir sayfanın genel yapısı çoğunlukla yandaki gibidir.\n",
    "• Bu tasarım ve etiketlerle arama motoruna sayfayla ilgili en doğru bilgi verilmiş olur.\n",
    "\n",
    "<header> Boşlık\n",
    "<nav> menü\n",
    "<article> makale\n",
    "<aside> yan içerik\n",
    "<footer> alt bilgi"
   ]
  },
  {
   "cell_type": "code",
   "execution_count": null,
   "id": "a3ee6342-158b-41dc-9217-ff22cd87b178",
   "metadata": {},
   "outputs": [],
   "source": []
  },
  {
   "cell_type": "code",
   "execution_count": null,
   "id": "d58b0c44-7f95-4b01-b90a-adb4999b79c5",
   "metadata": {},
   "outputs": [],
   "source": [
    "Semantik Sayfa Düzeni Etiketleri (5)\n",
    " Tag           Açıklama\n",
    "\n",
    "<article> Yorum, haber, forum gönderisi, blog gönderisi, müzik veya video gibi içerikleri kapsar.\n",
    "\n",
    "<section> Genelde benzer konuya sahip birden fazla <article> etiketini barındırır.\n",
    "\n",
    "<header> Bir sayfanın, makalenin veya bölümün başlık bilgisini kapsar.\n",
    "\n",
    "<nav> Sayfa içine veya sayfa dışına link vermek için oluşturulan menüleri kapsar.\n",
    "\n",
    "<aside> Sayfaların sol ya da sağ kenarında bulunan menü v.b. içerikleri barındıran bölümdür.\n",
    "\n",
    "<footer> Herhangi bir sayfanın, makalenin, bölümün veya menünün en altında bulunur ve genelde en yakın içeriğin iletişim ve telif hakkı bilgilerini barındırır.\n",
    "\n",
    "<figure> Fotoğraf, şekil, illüstrasyon gibi içerikleri ve bu içeriklerle ilgili başlık bilgisini barındırır.\n"
   ]
  },
  {
   "cell_type": "code",
   "execution_count": null,
   "id": "4fd67a99-e0c8-4f5d-8dcb-4a77f1d209f3",
   "metadata": {},
   "outputs": [],
   "source": []
  },
  {
   "cell_type": "code",
   "execution_count": null,
   "id": "e6e39646-daa6-4463-af54-acdcaf91c729",
   "metadata": {},
   "outputs": [],
   "source": [
    "Html meta elemanları : \n",
    "Define the character set used:\n",
    "\n",
    "<meta charset=\"UTF-8\">\n",
    "\n",
    "Define keywords for search engines:\n",
    "<meta name=\"keywords\" content=\"HTML, CSS, JavaScript\">\n",
    "\n",
    "Define a description of your web page:\n",
    "<meta name=\"description\" content=\"Free Web tutorials\">\n",
    "\n",
    "Sayfanın  \n",
    "<meta name=\"author\" content=\"John Doe\">\n",
    "\n",
    "Sayfa her 30 saniyede tazelenir:\n",
    "<meta http-equiv=\"refresh\" content=\"30\">\n",
    "\n",
    "Kullanıcı ne tür cihaz kullanıyorsa ona göre ayarlanıyor:\n",
    "<meta name=\"viewport\" content=\"width=device-width, initial-scale=1.0\"> initial-scale=1.0=sayfa ilk başta %100 boyutunda "
   ]
  },
  {
   "cell_type": "code",
   "execution_count": null,
   "id": "00beb45f-eb46-4beb-8423-a823630735bd",
   "metadata": {},
   "outputs": [],
   "source": []
  }
 ],
 "metadata": {
  "kernelspec": {
   "display_name": "Python 3 (ipykernel)",
   "language": "python",
   "name": "python3"
  },
  "language_info": {
   "codemirror_mode": {
    "name": "ipython",
    "version": 3
   },
   "file_extension": ".py",
   "mimetype": "text/x-python",
   "name": "python",
   "nbconvert_exporter": "python",
   "pygments_lexer": "ipython3",
   "version": "3.12.1"
  }
 },
 "nbformat": 4,
 "nbformat_minor": 5
}
