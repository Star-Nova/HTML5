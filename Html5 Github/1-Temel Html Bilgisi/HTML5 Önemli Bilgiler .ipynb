{
 "cells": [
  {
   "cell_type": "code",
   "execution_count": null,
   "id": "69944637-99a4-4dc9-88c5-f971700e6bb2",
   "metadata": {},
   "outputs": [],
   "source": [
    "HTML Nedir?\n",
    "    HTML, Hyper Text Markup Language'ın kısaltmasıdır\n",
    "    HTML, Web sayfaları oluşturmak için kullanılan standart işaretleme dilidir\n",
    "    HTML, bir Web sayfasının yapısını açıklar\n",
    "    HTML bir dizi öğeden oluşur\n",
    "    HTML öğeleri tarayıcıya içeriğin nasıl görüntüleneceğini söyler\n",
    "    HTML elemanları içerik parçalarını \"bu bir başlıktır\", \"bu bir paragraftır\", \"bu bir bağlantıdır\" vb. şeklinde etiketler."
   ]
  },
  {
   "cell_type": "code",
   "execution_count": null,
   "id": "04d3bda0-edb3-412d-8a05-61acdf2b337c",
   "metadata": {},
   "outputs": [],
   "source": []
  },
  {
   "cell_type": "code",
   "execution_count": null,
   "id": "9c4deb66-5900-4853-8843-56c36647c044",
   "metadata": {},
   "outputs": [],
   "source": [
    "***TEMEL HTML KOMUTLARI***\n",
    "\n",
    "Açıklama"
   ]
  },
  {
   "cell_type": "code",
   "execution_count": null,
   "id": "f12f3bf3-0ae2-4bb7-b2fa-7aad95821e5c",
   "metadata": {},
   "outputs": [],
   "source": [
    "<!DOCTYPE html>\n",
    "Sayfanın HTML5 ile tasarlandığını belirtir. Sayfanın en başında bulunur."
   ]
  },
  {
   "cell_type": "code",
   "execution_count": null,
   "id": "9616988a-5bbf-419b-b8cd-2ee8d3c4f5fb",
   "metadata": {},
   "outputs": [],
   "source": [
    "<html></html>\n",
    "Sayfanın başlangıcını ve sonunu belirtir."
   ]
  },
  {
   "cell_type": "code",
   "execution_count": null,
   "id": "fea1580d-66cd-4849-9138-99e6bd635e32",
   "metadata": {},
   "outputs": [],
   "source": [
    "<!DOCTYPE html> yazısının altına <html> yazısı eklenir bu iki ifade köktür olmazsa program çalışmaz."
   ]
  },
  {
   "cell_type": "code",
   "execution_count": null,
   "id": "4cfb8ca0-bdbe-498c-a512-78698b844974",
   "metadata": {},
   "outputs": [],
   "source": [
    "<head></head>\n",
    "Sunucu ve arama motorları ile ilgili bilgileri içerir."
   ]
  },
  {
   "cell_type": "code",
   "execution_count": null,
   "id": "f8ec0af6-25f8-4152-8efc-36b00e1efa18",
   "metadata": {},
   "outputs": [],
   "source": [
    "<head></head>\n",
    "Sunucu ve arama motorları ile ilgili bilgileri içerir."
   ]
  },
  {
   "cell_type": "code",
   "execution_count": null,
   "id": "9a04dffe-8db3-4c42-9e82-d846b7016281",
   "metadata": {},
   "outputs": [],
   "source": [
    "<body></body>\n",
    "Ziyaretçiye gösterilecek içeriği barındırır."
   ]
  },
  {
   "cell_type": "code",
   "execution_count": null,
   "id": "0deda7d3-3232-4b5c-9518-18df438f3b12",
   "metadata": {},
   "outputs": [],
   "source": [
    "<title></title>\n",
    "Sayfa ile ilgili açıklama barındırır. Sayfa açıldığında tarayıcı sekmesinde görünür."
   ]
  },
  {
   "cell_type": "code",
   "execution_count": null,
   "id": "cfa5a3f5-4f83-4655-b4f2-6c93d51f9d0f",
   "metadata": {},
   "outputs": [],
   "source": [
    "<html lang= \"tr\">\n",
    "Sayfanın dilini belirtir. Türkçe sayfalarda \"tr\" kullanılırken, İngilizce sayfalarda \"en\" kullanılır. <html> tagının bir özelliğidir. Yani, ayrı bir komut değildir."
   ]
  },
  {
   "cell_type": "code",
   "execution_count": null,
   "id": "56ed4abb-0490-426b-a2d6-38bc71d7af15",
   "metadata": {},
   "outputs": [],
   "source": [
    "<meta charset=\"utf-8\">\n",
    "Türkçe karakterlerin düzgün görünmesini sağlar. <head> tagı içine yazılmalıdır."
   ]
  },
  {
   "cell_type": "code",
   "execution_count": null,
   "id": "838b71dc-d77e-4d10-a1cd-72d83ebce523",
   "metadata": {},
   "outputs": [],
   "source": [
    "<hx></hx>\n",
    "İçeriklerin başlık bilgisini barındırır. Gazetelerdeki metinlerin manşetleri gibi, başlık tagları da web sayfalarındaki metinlerin manşetleridir. Okuyucuların dikkatini çekmek için kullanılır. Başlık tagları büyükten küçüğe doğru h1, h2, h3, h4, h5 ve h6 şeklinde kullanılabilir."
   ]
  },
  {
   "cell_type": "code",
   "execution_count": null,
   "id": "0f7c4b4c-7231-463e-9957-dc4a3e1583fc",
   "metadata": {},
   "outputs": [],
   "source": [
    "<p></p>\n",
    "Paragraf."
   ]
  },
  {
   "cell_type": "code",
   "execution_count": null,
   "id": "bdcf9c55-f340-4a06-b29d-e5428184948a",
   "metadata": {},
   "outputs": [],
   "source": [
    "<br/>\n",
    "Aynı paragrafın alt satırına geçmenizi sağlar."
   ]
  },
  {
   "cell_type": "code",
   "execution_count": null,
   "id": "f0c122f1-ac7e-41a3-a09d-f059844ae84b",
   "metadata": {},
   "outputs": [],
   "source": []
  },
  {
   "cell_type": "code",
   "execution_count": null,
   "id": "7507b6e4-0a94-4e8d-aef8-d88404cc9403",
   "metadata": {},
   "outputs": [],
   "source": [
    "Eğer kod yazarken açıklama ekleme istiyorasak <!--Açıklama--> diyip yanına isdediğimiz açıklamayı ekleyebiliriz. \n",
    "Unutma: Bu açıkla sadece sende gözükür."
   ]
  },
  {
   "cell_type": "code",
   "execution_count": null,
   "id": "d6fa7132-7fb2-4eec-8a1a-0aa9c6638928",
   "metadata": {},
   "outputs": [],
   "source": []
  },
  {
   "cell_type": "code",
   "execution_count": null,
   "id": "ae47ec69-2ef4-4fee-b244-0dc4fad5fa57",
   "metadata": {},
   "outputs": [],
   "source": [
    "***SIKÇA KULLANILAN HTML ÖZELLİKLERİ***"
   ]
  },
  {
   "cell_type": "code",
   "execution_count": null,
   "id": "7f869e92-f9bc-4b24-86b2-e0498cb17aa2",
   "metadata": {},
   "outputs": [],
   "source": [
    "Özellik= id\n",
    "Değer=benzersiz isim\n",
    "Örnek = <h1 id=\"baslik1\">...</h1>\n",
    "Açıklama = HTML tagına benzersiz bir isim verir."
   ]
  },
  {
   "cell_type": "code",
   "execution_count": null,
   "id": "75cd7b9f-8c79-43a5-a7ad-a779381e8b12",
   "metadata": {},
   "outputs": [],
   "source": []
  },
  {
   "cell_type": "code",
   "execution_count": null,
   "id": "5222f120-df49-42ec-98ca-78d028e600cd",
   "metadata": {},
   "outputs": [],
   "source": [
    "Özellik= class\n",
    "Değer=css sınıf adı\n",
    "Örnek=<h2 class=\"cerceve\">...</h2>\n",
    "Açıklama=HTML komutuna belirli bir ada sahip CSS kodu uygular."
   ]
  },
  {
   "cell_type": "code",
   "execution_count": null,
   "id": "fd0b7c49-7c75-4767-b481-fe465bf5bb8e",
   "metadata": {},
   "outputs": [],
   "source": []
  },
  {
   "cell_type": "code",
   "execution_count": null,
   "id": "4dc4cd52-4dfa-4291-a423-c2cf91ae2640",
   "metadata": {},
   "outputs": [],
   "source": [
    "Özellik=style\n",
    "Değer=css komutu\n",
    "Örnek=<h1 style=\"color:red\">...</h1>\n",
    "Açıklama=HTML komutu içinde CSS kodu yazılmasını sağlar. (Mesela Styele color dediğimiz zaman paragrafın rengini değiştirebiliriz)"
   ]
  },
  {
   "cell_type": "code",
   "execution_count": null,
   "id": "fe9ea5ed-1af9-465a-a268-2e60525f830d",
   "metadata": {},
   "outputs": [],
   "source": []
  },
  {
   "cell_type": "code",
   "execution_count": null,
   "id": "46980a5a-7cdb-4363-9fd9-010ec0a9b0cb",
   "metadata": {},
   "outputs": [],
   "source": [
    "Özellik= title\n",
    "Değer=metin\n",
    "Örnek= <h1 title= \"Makale Başlığı\"> ... </h1>\n",
    "Açıklama= HTML komutu üzerine gidince bir kutu içinde açıklama metni görünmesini sağlar. ( Title özelliği ile h1 başlığına Makale Başlığı şeklined bir açıklama ekleyebiliriz\n",
    "Kullanıcı ona mouse u yaklaştırdığında açıklamayı görür.)"
   ]
  },
  {
   "cell_type": "code",
   "execution_count": null,
   "id": "d812f1ad-b3b4-4f62-b831-7183464c0784",
   "metadata": {},
   "outputs": [],
   "source": []
  }
 ],
 "metadata": {
  "kernelspec": {
   "display_name": "Python 3 (ipykernel)",
   "language": "python",
   "name": "python3"
  },
  "language_info": {
   "codemirror_mode": {
    "name": "ipython",
    "version": 3
   },
   "file_extension": ".py",
   "mimetype": "text/x-python",
   "name": "python",
   "nbconvert_exporter": "python",
   "pygments_lexer": "ipython3",
   "version": "3.12.1"
  }
 },
 "nbformat": 4,
 "nbformat_minor": 5
}
